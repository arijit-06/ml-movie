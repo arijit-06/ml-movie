{
 "cells": [
  {
   "cell_type": "code",
   "execution_count": null,
   "metadata": {},
   "outputs": [],
   "source": [
    "import pandas as pd\n",
    "import numpy as np\n",
    "from sklearn.feature_extraction.text import TfidfVectorizer\n",
    "from sklearn.metrics.pairwise import cosine_similarity\n",
    "import ast"
   ]
  },
  {
   "cell_type": "code",
   "execution_count": null,
   "metadata": {},
   "outputs": [],
   "source": [
    "movies = pd.read_csv('tmdb_5000_movies.csv')\n",
    "credits = pd.read_csv('tmdb_5000_credits.csv')\n",
    "movies = movies.merge(credits, on='title')\n",
    "movies = movies[['movie_id', 'title', 'overview', 'genres', 'keywords', 'cast']]"
   ]
  },
  {
   "cell_type": "code",
   "execution_count": null,
   "metadata": {},
   "outputs": [],
   "source": [
    "movies = movies.fillna('')\n",
    "\n",
    "def extract_names(obj):\n",
    "    try:\n",
    "        return [item['name'] for item in ast.literal_eval(obj)]\n",
    "    except:\n",
    "        return []\n",
    "\n",
    "movies['genres'] = movies['genres'].apply(extract_names)\n",
    "movies['keywords'] = movies['keywords'].apply(extract_names)\n",
    "movies['cast'] = movies['cast'].apply(lambda x: extract_names(x)[:3])"
   ]
  },
  {
   "cell_type": "code",
   "execution_count": null,
   "metadata": {},
   "outputs": [],
   "source": [
    "movies['tags'] = (\n",
    "    movies['overview'] + ' ' +\n",
    "    movies['genres'].apply(lambda x: ' '.join(x)) + ' ' +\n",
    "    movies['keywords'].apply(lambda x: ' '.join(x)) + ' ' +\n",
    "    movies['cast'].apply(lambda x: ' '.join(x))\n",
    ").str.lower()"
   ]
  },
  {
   "cell_type": "code",
   "execution_count": null,
   "metadata": {},
   "outputs": [],
   "source": [
    "tfidf = TfidfVectorizer(max_features=5000, stop_words='english')\n",
    "tfidf_matrix = tfidf.fit_transform(movies['tags'])\n",
    "similarity_matrix = cosine_similarity(tfidf_matrix)"
   ]
  },
  {
   "cell_type": "code",
   "execution_count": null,
   "metadata": {},
   "outputs": [],
   "source": [
    "def recommend(movie_title):\n",
    "    try:\n",
    "        idx = movies[movies['title'].str.lower() == movie_title.lower()].index[0]\n",
    "        sim_scores = list(enumerate(similarity_matrix[idx]))\n",
    "        sim_scores = sorted(sim_scores, key=lambda x: x[1], reverse=True)[1:6]\n",
    "        movie_indices = [i[0] for i in sim_scores]\n",
    "        return movies.iloc[movie_indices]['title'].tolist()\n",
    "    except:\n",
    "        return f\"Movie '{movie_title}' not found\""
   ]
  },
  {
   "cell_type": "code",
   "execution_count": null,
   "metadata": {},
   "outputs": [],
   "source": [
    "test_movies = ['The Dark Knight', 'Inception', 'Avatar']\n",
    "\n",
    "for movie in test_movies:\n",
    "    print(f\"\\nRecommendations for '{movie}':\")\n",
    "    recommendations = recommend(movie)\n",
    "    for i, rec in enumerate(recommendations, 1):\n",
    "        print(f\"{i}. {rec}\")"
   ]
  }
 ],
 "metadata": {
  "kernelspec": {
   "display_name": "Python 3",
   "language": "python",
   "name": "python3"
  },
  "language_info": {
   "name": "python",
   "version": "3.8.5"
  }
 },
 "nbformat": 4,
 "nbformat_minor": 4
}