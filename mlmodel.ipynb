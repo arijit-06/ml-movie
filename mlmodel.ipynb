{
 "cells": [
  {
   "cell_type": "markdown",
   "metadata": {},
   "source": [
    "# Movie Recommendation System\n",
    "## Content-Based Filtering using TMDB Movie Metadata\n",
    "\n",
    "This notebook implements a movie recommendation system that suggests movies based on content similarity using genres, overview, keywords, and cast information."
   ]
  },
  {
   "cell_type": "markdown",
   "metadata": {},
   "source": [
    "## 1. Import Libraries"
   ]
  },
  {
   "cell_type": "code",
   "execution_count": null,
   "metadata": {},
   "outputs": [],
   "source": [
    "import pandas as pd\n",
    "import numpy as np\n",
    "from sklearn.feature_extraction.text import TfidfVectorizer\n",
    "from sklearn.metrics.pairwise import cosine_similarity\n",
    "import ast\n",
    "import re\n",
    "import warnings\n",
    "warnings.filterwarnings('ignore')"
   ]
  },
  {
   "cell_type": "markdown",
   "metadata": {},
   "source": [
    "## 2. Load Dataset"
   ]
  },
  {
   "cell_type": "code",
   "execution_count": null,
   "metadata": {},
   "outputs": [],
   "source": [
    "# Load the TMDB movie metadata\n",
    "# Download from: https://www.kaggle.com/datasets/tmdb/tmdb-movie-metadata\n",
    "movies = pd.read_csv('tmdb_5000_movies.csv')\n",
    "credits = pd.read_csv('tmdb_5000_credits.csv')\n",
    "\n",
    "# Merge datasets on movie id\n",
    "movies = movies.merge(credits, on='title')\n",
    "\n",
    "# Select relevant columns\n",
    "movies = movies[['movie_id', 'title', 'overview', 'genres', 'keywords', 'cast']]\n",
    "\n",
    "print(f\"Dataset shape: {movies.shape}\")\n",
    "print(f\"\\nFirst few rows:\")\n",
    "movies.head()"
   ]
  },
  {
   "cell_type": "markdown",
   "metadata": {},
   "source": [
    "## 3. Data Preprocessing"
   ]
  },
  {
   "cell_type": "code",
   "execution_count": null,
   "metadata": {},
   "outputs": [],
   "source": [
    "# Check for missing values\n",
    "print(\"Missing values:\")\n",
    "print(movies.isnull().sum())\n",
    "\n",
    "# Handle missing values\n",
    "movies['overview'] = movies['overview'].fillna('')\n",
    "movies['genres'] = movies['genres'].fillna('[]')\n",
    "movies['keywords'] = movies['keywords'].fillna('[]')\n",
    "movies['cast'] = movies['cast'].fillna('[]')"
   ]
  },
  {
   "cell_type": "code",
   "execution_count": null,
   "metadata": {},
   "outputs": [],
   "source": [
    "def extract_names(obj):\n",
    "    \"\"\"Extract names from JSON-like string format\"\"\"\n",
    "    try:\n",
    "        data = ast.literal_eval(obj)\n",
    "        return [item['name'] for item in data]\n",
    "    except:\n",
    "        return []\n",
    "\n",
    "def extract_cast(obj, limit=3):\n",
    "    \"\"\"Extract top cast members (limit to top 3)\"\"\"\n",
    "    try:\n",
    "        data = ast.literal_eval(obj)\n",
    "        return [item['name'] for item in data[:limit]]\n",
    "    except:\n",
    "        return []\n",
    "\n",
    "# Extract features\n",
    "movies['genres'] = movies['genres'].apply(extract_names)\n",
    "movies['keywords'] = movies['keywords'].apply(extract_names)\n",
    "movies['cast'] = movies['cast'].apply(extract_cast)\n",
    "\n",
    "print(\"Sample processed data:\")\n",
    "print(movies[['title', 'genres', 'keywords', 'cast']].head())"
   ]
  },
  {
   "cell_type": "markdown",
   "metadata": {},
   "source": [
    "## 4. Feature Engineering - Create Tags Column"
   ]
  },
  {
   "cell_type": "code",
   "execution_count": null,
   "metadata": {},
   "outputs": [],
   "source": [
    "def clean_text(text):\n",
    "    \"\"\"Clean and normalize text\"\"\"\n",
    "    if isinstance(text, list):\n",
    "        text = ' '.join(text)\n",
    "    text = str(text).lower()\n",
    "    text = re.sub(r'[^a-zA-Z0-9\\s]', '', text)\n",
    "    text = re.sub(r'\\s+', ' ', text).strip()\n",
    "    return text\n",
    "\n",
    "# Create tags column by combining all features\n",
    "movies['tags'] = (\n",
    "    movies['overview'] + ' ' +\n",
    "    movies['genres'].apply(lambda x: ' '.join(x)) + ' ' +\n",
    "    movies['keywords'].apply(lambda x: ' '.join(x)) + ' ' +\n",
    "    movies['cast'].apply(lambda x: ' '.join(x))\n",
    ")\n",
    "\n",
    "# Clean the tags\n",
    "movies['tags'] = movies['tags'].apply(clean_text)\n",
    "\n",
    "print(\"Sample tags:\")\n",
    "print(movies[['title', 'tags']].head())"
   ]
  },
  {
   "cell_type": "markdown",
   "metadata": {},
   "source": [
    "## 5. TF-IDF Vectorization"
   ]
  },
  {
   "cell_type": "code",
   "execution_count": null,
   "metadata": {},
   "outputs": [],
   "source": [
    "# Initialize TF-IDF Vectorizer\n",
    "tfidf = TfidfVectorizer(\n",
    "    max_features=5000,\n",
    "    stop_words='english',\n",
    "    lowercase=True\n",
    ")\n",
    "\n",
    "# Fit and transform the tags\n",
    "tfidf_matrix = tfidf.fit_transform(movies['tags'])\n",
    "\n",
    "print(f\"TF-IDF Matrix shape: {tfidf_matrix.shape}\")\n",
    "print(f\"Number of features: {len(tfidf.get_feature_names_out())}\")"
   ]
  },
  {
   "cell_type": "markdown",
   "metadata": {},
   "source": [
    "## 6. Cosine Similarity Computation"
   ]
  },
  {
   "cell_type": "code",
   "execution_count": null,
   "metadata": {},
   "outputs": [],
   "source": [
    "# Compute cosine similarity matrix\n",
    "similarity_matrix = cosine_similarity(tfidf_matrix)\n",
    "\n",
    "print(f\"Similarity matrix shape: {similarity_matrix.shape}\")\n",
    "print(f\"Sample similarity scores for first movie: {similarity_matrix[0][:5]}\")"
   ]
  },
  {
   "cell_type": "markdown",
   "metadata": {},
   "source": [
    "## 7. Recommendation Function"
   ]
  },
  {
   "cell_type": "code",
   "execution_count": null,
   "metadata": {},
   "outputs": [],
   "source": [
    "def recommend(movie_title, num_recommendations=5):\n",
    "    \"\"\"\n",
    "    Recommend movies based on content similarity\n",
    "    \n",
    "    Args:\n",
    "        movie_title (str): Title of the movie to base recommendations on\n",
    "        num_recommendations (int): Number of recommendations to return\n",
    "    \n",
    "    Returns:\n",
    "        list: Top recommended movie titles\n",
    "    \"\"\"\n",
    "    try:\n",
    "        # Find the movie index\n",
    "        movie_idx = movies[movies['title'].str.lower() == movie_title.lower()].index[0]\n",
    "        \n",
    "        # Get similarity scores for this movie\n",
    "        sim_scores = list(enumerate(similarity_matrix[movie_idx]))\n",
    "        \n",
    "        # Sort by similarity score (descending)\n",
    "        sim_scores = sorted(sim_scores, key=lambda x: x[1], reverse=True)\n",
    "        \n",
    "        # Get top recommendations (excluding the input movie itself)\n",
    "        sim_scores = sim_scores[1:num_recommendations+1]\n",
    "        \n",
    "        # Get movie indices\n",
    "        movie_indices = [i[0] for i in sim_scores]\n",
    "        \n",
    "        # Return recommended movie titles\n",
    "        recommendations = movies.iloc[movie_indices]['title'].tolist()\n",
    "        \n",
    "        return recommendations\n",
    "    \n",
    "    except IndexError:\n",
    "        return f\"Movie '{movie_title}' not found in the dataset.\"\n",
    "    except Exception as e:\n",
    "        return f\"Error: {str(e)}\""
   ]
  },
  {
   "cell_type": "markdown",
   "metadata": {},
   "source": [
    "## 8. Demonstration with Examples"
   ]
  },
  {
   "cell_type": "code",
   "execution_count": null,
   "metadata": {},
   "outputs": [],
   "source": [
    "# Test movies for demonstration\n",
    "test_movies = ['The Dark Knight', 'Inception', 'Avatar']\n",
    "\n",
    "print(\"🎬 MOVIE RECOMMENDATION SYSTEM DEMO\\n\")\n",
    "print(\"=\" * 50)\n",
    "\n",
    "for movie in test_movies:\n",
    "    print(f\"\\n🎯 Recommendations for '{movie}':\")\n",
    "    print(\"-\" * 40)\n",
    "    \n",
    "    recommendations = recommend(movie)\n",
    "    \n",
    "    if isinstance(recommendations, list):\n",
    "        for i, rec in enumerate(recommendations, 1):\n",
    "            print(f\"{i}. {rec}\")\n",
    "    else:\n",
    "        print(recommendations)\n",
    "    \n",
    "    print()"
   ]
  },
  {
   "cell_type": "markdown",
   "metadata": {},
   "source": [
    "## 9. Additional Analysis"
   ]
  },
  {
   "cell_type": "code",
   "execution_count": null,
   "metadata": {},
   "outputs": [],
   "source": [
    "# Function to get movie details\n",
    "def get_movie_details(movie_title):\n",
    "    \"\"\"Get detailed information about a movie\"\"\"\n",
    "    try:\n",
    "        movie = movies[movies['title'].str.lower() == movie_title.lower()].iloc[0]\n",
    "        return {\n",
    "            'Title': movie['title'],\n",
    "            'Genres': movie['genres'],\n",
    "            'Cast': movie['cast'],\n",
    "            'Overview': movie['overview'][:200] + '...' if len(movie['overview']) > 200 else movie['overview']\n",
    "        }\n",
    "    except:\n",
    "        return f\"Movie '{movie_title}' not found.\"\n",
    "\n",
    "# Show details for one of the test movies\n",
    "print(\"📋 Movie Details Example:\")\n",
    "print(\"=\" * 30)\n",
    "details = get_movie_details('Inception')\n",
    "for key, value in details.items():\n",
    "    print(f\"{key}: {value}\")"
   ]
  },
  {
   "cell_type": "markdown",
   "metadata": {},
   "source": [
    "## 10. Interactive Recommendation"
   ]
  },
  {
   "cell_type": "code",
   "execution_count": null,
   "metadata": {},
   "outputs": [],
   "source": [
    "# Interactive function for custom movie recommendations\n",
    "def interactive_recommend():\n",
    "    \"\"\"Interactive movie recommendation function\"\"\"\n",
    "    print(\"🎬 Interactive Movie Recommendation System\")\n",
    "    print(\"Enter a movie title to get recommendations (or 'quit' to exit)\\n\")\n",
    "    \n",
    "    while True:\n",
    "        movie_input = input(\"Enter movie title: \").strip()\n",
    "        \n",
    "        if movie_input.lower() == 'quit':\n",
    "            print(\"Thanks for using the recommendation system!\")\n",
    "            break\n",
    "        \n",
    "        if movie_input:\n",
    "            recommendations = recommend(movie_input)\n",
    "            \n",
    "            print(f\"\\n🎯 Recommendations for '{movie_input}':\")\n",
    "            print(\"-\" * 40)\n",
    "            \n",
    "            if isinstance(recommendations, list):\n",
    "                for i, rec in enumerate(recommendations, 1):\n",
    "                    print(f\"{i}. {rec}\")\n",
    "            else:\n",
    "                print(recommendations)\n",
    "            \n",
    "            print(\"\\n\" + \"=\" * 50 + \"\\n\")\n",
    "\n",
    "# Uncomment the line below to run interactive mode\n",
    "# interactive_recommend()"
   ]
  },
  {
   "cell_type": "markdown",
   "metadata": {},
   "source": [
    "## Summary\n",
    "\n",
    "This Movie Recommendation System implements content-based filtering using:\n",
    "\n",
    "✅ **Data Loading**: TMDB movie metadata with focus on relevant columns  \n",
    "✅ **Preprocessing**: Handled missing values and cleaned text data  \n",
    "✅ **Feature Engineering**: Created combined 'tags' column from overview, genres, keywords, and cast  \n",
    "✅ **Vectorization**: TF-IDF with 5000 max features and English stopwords removal  \n",
    "✅ **Similarity**: Cosine similarity matrix for efficient movie comparisons  \n",
    "✅ **Recommendation Function**: Returns top 5 similar movies for any given movie title  \n",
    "✅ **Demonstration**: Tested with popular movies like The Dark Knight, Inception, and Avatar  \n",
    "\n",
    "The system successfully recommends movies based on content similarity, making it useful for users who want to find movies similar to ones they already enjoy."
   ]
  }
 ],
 "metadata": {
  "kernelspec": {
   "display_name": "Python 3",
   "language": "python",
   "name": "python3"
  },
  "language_info": {
   "codemirror_mode": {
    "name": "ipython",
    "version": 3
   },
   "file_extension": ".py",
   "mimetype": "text/x-python",
   "name": "python",
   "nbconvert_exporter": "python",
   "pygments_lexer": "ipython3",
   "version": "3.8.5"
  }
 },
 "nbformat": 4,
 "nbformat_minor": 4
}